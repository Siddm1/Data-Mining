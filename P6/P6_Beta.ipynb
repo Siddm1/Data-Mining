{
  "nbformat": 4,
  "nbformat_minor": 0,
  "metadata": {
    "colab": {
      "name": "p6",
      "provenance": [],
      "collapsed_sections": []
    },
    "kernelspec": {
      "name": "python3",
      "display_name": "Python 3"
    },
    "language_info": {
      "name": "python"
    }
  },
  "cells": [
    {
      "cell_type": "markdown",
      "metadata": {
        "id": "YtpiJjVHFehq"
      },
      "source": [
        "# P6 Part B\n",
        "\n",
        "**Team Jarlsberg**\n",
        "\n",
        "Zachary Noel\n",
        "\n",
        "Erin Dolson\n",
        "\n",
        "Siddhesh Mahadeshwar"
      ]
    },
    {
      "cell_type": "markdown",
      "metadata": {
        "id": "gkiHKgvwGIuR"
      },
      "source": [
        "4. Confirm the results above of the Apriori algorithm.  For R, the arules package is available.  Matlab has the Association Rules package available from File Exchange1.  Pythonhas the ‘mlxtend‘ library."
      ]
    },
    {
      "cell_type": "code",
      "metadata": {
        "id": "sLifjfUjEQc2"
      },
      "source": [
        "import pandas as pd\n",
        "import numpy as np\n",
        "import matplotlib as mpl\n",
        "import matplotlib.pyplot as plt\n",
        "import seaborn as sb\n",
        "import math \n",
        "%matplotlib inline\n",
        "\n",
        "from mlxtend.preprocessing import TransactionEncoder \n",
        "from mlxtend.frequent_patterns import apriori\n",
        "from mlxtend.frequent_patterns import association_rules"
      ],
      "execution_count": 8,
      "outputs": []
    },
    {
      "cell_type": "code",
      "metadata": {
        "colab": {
          "base_uri": "https://localhost:8080/",
          "height": 394
        },
        "id": "5O1uReOrG7EW",
        "outputId": "d73aaf14-e31a-43f1-9a19-525ce8aed21c"
      },
      "source": [
        "item_data = []\n",
        "with open(\"A.txt\") as inputfile:\n",
        "   for line in inputfile:\n",
        "       item_data.append(line.strip().split(','))\n",
        "\n",
        "te = TransactionEncoder()\n",
        "tedata = te.fit(item_data).transform(item_data)\n",
        "itemdf = pd.DataFrame(tedata, columns = te.columns_)\n",
        "fi = apriori(itemdf, min_support=0.5, use_colnames=True)\n",
        "fi"
      ],
      "execution_count": 9,
      "outputs": [
        {
          "output_type": "execute_result",
          "data": {
            "text/html": [
              "<div>\n",
              "<style scoped>\n",
              "    .dataframe tbody tr th:only-of-type {\n",
              "        vertical-align: middle;\n",
              "    }\n",
              "\n",
              "    .dataframe tbody tr th {\n",
              "        vertical-align: top;\n",
              "    }\n",
              "\n",
              "    .dataframe thead th {\n",
              "        text-align: right;\n",
              "    }\n",
              "</style>\n",
              "<table border=\"1\" class=\"dataframe\">\n",
              "  <thead>\n",
              "    <tr style=\"text-align: right;\">\n",
              "      <th></th>\n",
              "      <th>support</th>\n",
              "      <th>itemsets</th>\n",
              "    </tr>\n",
              "  </thead>\n",
              "  <tbody>\n",
              "    <tr>\n",
              "      <th>0</th>\n",
              "      <td>0.8</td>\n",
              "      <td>( E)</td>\n",
              "    </tr>\n",
              "    <tr>\n",
              "      <th>1</th>\n",
              "      <td>1.0</td>\n",
              "      <td>( K)</td>\n",
              "    </tr>\n",
              "    <tr>\n",
              "      <th>2</th>\n",
              "      <td>0.6</td>\n",
              "      <td>( O)</td>\n",
              "    </tr>\n",
              "    <tr>\n",
              "      <th>3</th>\n",
              "      <td>0.6</td>\n",
              "      <td>( Y)</td>\n",
              "    </tr>\n",
              "    <tr>\n",
              "      <th>4</th>\n",
              "      <td>0.6</td>\n",
              "      <td>(M)</td>\n",
              "    </tr>\n",
              "    <tr>\n",
              "      <th>5</th>\n",
              "      <td>0.8</td>\n",
              "      <td>( K,  E)</td>\n",
              "    </tr>\n",
              "    <tr>\n",
              "      <th>6</th>\n",
              "      <td>0.6</td>\n",
              "      <td>( O,  E)</td>\n",
              "    </tr>\n",
              "    <tr>\n",
              "      <th>7</th>\n",
              "      <td>0.6</td>\n",
              "      <td>( K,  O)</td>\n",
              "    </tr>\n",
              "    <tr>\n",
              "      <th>8</th>\n",
              "      <td>0.6</td>\n",
              "      <td>( Y,  K)</td>\n",
              "    </tr>\n",
              "    <tr>\n",
              "      <th>9</th>\n",
              "      <td>0.6</td>\n",
              "      <td>( K, M)</td>\n",
              "    </tr>\n",
              "    <tr>\n",
              "      <th>10</th>\n",
              "      <td>0.6</td>\n",
              "      <td>( K,  O,  E)</td>\n",
              "    </tr>\n",
              "  </tbody>\n",
              "</table>\n",
              "</div>"
            ],
            "text/plain": [
              "    support      itemsets\n",
              "0       0.8          ( E)\n",
              "1       1.0          ( K)\n",
              "2       0.6          ( O)\n",
              "3       0.6          ( Y)\n",
              "4       0.6           (M)\n",
              "5       0.8      ( K,  E)\n",
              "6       0.6      ( O,  E)\n",
              "7       0.6      ( K,  O)\n",
              "8       0.6      ( Y,  K)\n",
              "9       0.6       ( K, M)\n",
              "10      0.6  ( K,  O,  E)"
            ]
          },
          "metadata": {
            "tags": []
          },
          "execution_count": 9
        }
      ]
    }
  ]
}